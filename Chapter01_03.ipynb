{
  "nbformat": 4,
  "nbformat_minor": 0,
  "metadata": {
    "colab": {
      "name": "Chapter01_03.ipynb",
      "provenance": [],
      "collapsed_sections": [],
      "authorship_tag": "ABX9TyOWn1v1/YfgIuFr5Oe0y7cN",
      "include_colab_link": true
    },
    "kernelspec": {
      "name": "python3",
      "display_name": "Python 3"
    },
    "language_info": {
      "name": "python"
    }
  },
  "cells": [
    {
      "cell_type": "markdown",
      "metadata": {
        "id": "view-in-github",
        "colab_type": "text"
      },
      "source": [
        "<a href=\"https://colab.research.google.com/github/sonhyuncheol/AI/blob/master/Chapter01_03.ipynb\" target=\"_parent\"><img src=\"https://colab.research.google.com/assets/colab-badge.svg\" alt=\"Open In Colab\"/></a>"
      ]
    },
    {
      "cell_type": "markdown",
      "metadata": {
        "id": "IsEGR8-U5U1y"
      },
      "source": [
        "# **머신러닝이란?**\n",
        "\n",
        "일반적인 프로그래밍은 사전에 규칙(기준)을 정해서 프로그램을 작성한다.\n",
        "\n",
        "머신러닝 프로그래밍은 프로그램을 만들어서 규칙(기준)을 스스로 찾게 한다.\n",
        "\n",
        "머신러닝을 데이터에서 규칙(기준)을 찾는다."
      ]
    },
    {
      "cell_type": "markdown",
      "metadata": {
        "id": "1Mih_hLY5zhz"
      },
      "source": [
        "# **머신러닝에서 사용하는 용어**\n",
        "\n",
        "어떤 종류를 나타낼 때는 클래스(Class)라고 한다.\n",
        "\n",
        " ex) 도미와 빙어라면 2개의 클래스로 도미 클래스와 빙어 클래스라고 한다.\n",
        "\n",
        "여러 개의 클래스를 구분하는 문제를 분류(Classification)라고 한다.\n",
        "\n",
        "2개의 클래스를 구분하는 문제는 이진 분류(Binary Classification)라고 한다."
      ]
    },
    {
      "cell_type": "markdown",
      "metadata": {
        "id": "_ZXJyVCo6XEX"
      },
      "source": [
        "# **도미 데이터 준비하기**"
      ]
    },
    {
      "cell_type": "code",
      "metadata": {
        "id": "XQOkghvU6mX8"
      },
      "source": [
        "bream_length = [25.4, 26.3, 26.5, 29.0, 29.0, 29.7, 29.7, 30.0, 30.0, 30.7, 31.0, 31.0, \n",
        "                31.5, 32.0, 32.0, 32.0, 33.0, 33.0, 33.5, 33.5, 34.0, 34.0, 34.5, 35.0, \n",
        "                35.0, 35.0, 35.0, 36.0, 36.0, 37.0, 38.5, 38.5, 39.5, 41.0, 41.0]\n",
        "                \n",
        "bream_weight = [242.0, 290.0, 340.0, 363.0, 430.0, 450.0, 500.0, 390.0, 450.0, 500.0, 475.0, 500.0, \n",
        "                500.0, 340.0, 600.0, 600.0, 700.0, 700.0, 610.0, 650.0, 575.0, 685.0, 620.0, 680.0, \n",
        "                700.0, 725.0, 720.0, 714.0, 850.0, 1000.0, 920.0, 955.0, 925.0, 975.0, 950.0]"
      ],
      "execution_count": 1,
      "outputs": []
    },
    {
      "cell_type": "markdown",
      "metadata": {
        "id": "lM1999rK7TS2"
      },
      "source": [
        "각각의 생선 데이터들을 샘플(Sample)이라고 한다.\n",
        "\n",
        "그리고 생선의 길이와 무게를 특성(Feature)이라고 한다."
      ]
    },
    {
      "cell_type": "markdown",
      "metadata": {
        "id": "WLQh1a3U8pnn"
      },
      "source": [
        "# **산점도(Scatter Plot)**\n",
        "두 개의 특성이 있고 데이터 샘플을 표현할 때 산점도(Scatter plot)을 사용한다.\n",
        "\n",
        "산점도란 x, y축으로 이뤄진 좌표계에 두 변수(x, y)의 관계를 표현하는 방법이다.\n",
        "\n",
        "x축과 y축에 두 개의 특성을 놓고, 각 샘플을 하나의 점으로 그래프에 표현한다."
      ]
    },
    {
      "cell_type": "code",
      "metadata": {
        "colab": {
          "base_uri": "https://localhost:8080/",
          "height": 279
        },
        "id": "_y79lTUJ7jul",
        "outputId": "5f9d3fd8-b8fc-49eb-ee53-7b9317f2bceb"
      },
      "source": [
        "import matplotlib.pyplot as plt\n",
        "\n",
        "plt.scatter(bream_length, bream_weight)\n",
        "plt.xlabel('length') # x축\n",
        "plt.ylabel('weight') # y축\n",
        "plt.show()"
      ],
      "execution_count": 2,
      "outputs": [
        {
          "output_type": "display_data",
          "data": {
            "image/png": "[encoded data removed]",
            "text/plain": [
              "<Figure size 432x288 with 1 Axes>"
            ]
          },
          "metadata": {
            "tags": [],
            "needs_background": "light"
          }
        }
      ]
    },
    {
      "cell_type": "markdown",
      "metadata": {
        "id": "ceZXGBBn72oT"
      },
      "source": [
        "파이썬에서 그래프를 그리는 대표적인 패키지는 맷플롯립(matplotlib)이다.\n",
        "\n",
        "대표적인 파이썬 패키지들은 이미 널리 사용되는 줄임말이 있다. 임포트할 때 as 키워드로 matplotlib.pyplot은 plt라는 약어로 줄여서 사용한다.\n",
        "\n",
        "x축은 길이, y축은 무게로 2개의 특성을 사용해 그린 그래프이기 때문에 2차원 그래프라고 말한다.\n",
        "\n",
        "산점도 그래프가 일직선에 가까운 형태로 나타나는 경우를 선형(Liear)적이라고 말한다."
      ]
    },
    {
      "cell_type": "markdown",
      "metadata": {
        "id": "qyWOVJ8S98tZ"
      },
      "source": [
        "# **빙어 데이터 준비하기**"
      ]
    },
    {
      "cell_type": "code",
      "metadata": {
        "id": "PHHVW-Pn-ASL"
      },
      "source": [
        "smelt_length = [9.8, 10.5, 10.6, 11.0, 11.2, 11.3, 11.8, 11.8, 12.0, 12.2, 12.4, 13.0, 14.3, 15.0]\n",
        "smelt_weight = [6.7, 7.5, 7.0, 9.7, 9.8, 8.7, 10.0, 9.9, 9.8, 12.2, 13.4, 12.2, 19.7, 19.9]"
      ],
      "execution_count": 3,
      "outputs": []
    },
    {
      "cell_type": "code",
      "metadata": {
        "colab": {
          "base_uri": "https://localhost:8080/",
          "height": 279
        },
        "id": "eL2X4lZK-e6g",
        "outputId": "0a540c6b-b5bf-4a10-ee1f-4dd5cce06971"
      },
      "source": [
        "plt.scatter(bream_length, bream_weight)\n",
        "plt.scatter(smelt_length, smelt_weight)\n",
        "plt.xlabel('length')\n",
        "plt.ylabel('weight')\n",
        "plt.show()"
      ],
      "execution_count": 4,
      "outputs": [
        {
          "output_type": "display_data",
          "data": {
            "image/png": "[encoded data removed]",
            "text/plain": [
              "<Figure size 432x288 with 1 Axes>"
            ]
          },
          "metadata": {
            "tags": [],
            "needs_background": "light"
          }
        }
      ]
    },
    {
      "cell_type": "markdown",
      "metadata": {
        "id": "0ZKZ527g-9uJ"
      },
      "source": [
        "scatter()함수를 두 번 연속으로 호출하면 2개의 산점도를 하나의 그래프에 표현한다."
      ]
    },
    {
      "cell_type": "markdown",
      "metadata": {
        "id": "bzbJ7Q9vJ8Zr"
      },
      "source": [
        "# **첫 번째 머신러닝 프로그램**"
      ]
    },
    {
      "cell_type": "markdown",
      "metadata": {
        "id": "cG2Q9pUwQcOF"
      },
      "source": [
        "도미와 빙어 데이터를 하나의 리스트로 합쳐야한다.\n",
        "\n",
        "그래야지 머신러닝 프로그래밍이 두 생선을 구분하는 방법을 훈련할 수 있다."
      ]
    },
    {
      "cell_type": "code",
      "metadata": {
        "id": "KBjLTdY6rsxD"
      },
      "source": [
        "length = bream_length + smelt_length \n",
        "weight = bream_weight + smelt_weight"
      ],
      "execution_count": 5,
      "outputs": []
    },
    {
      "cell_type": "markdown",
      "metadata": {
        "id": "ndox2etMr-eg"
      },
      "source": [
        "이 책에서 사용하는 머신러닝 패키지는 사이킷런(scikit-learn)이다.\n",
        "\n",
        "사이킷런 패키지를 사용하기 위해서는 데이터의 각 샘플을 행으로, 각 특성을 열로 2차원 리스트로 만들어야한다."
      ]
    },
    {
      "cell_type": "code",
      "metadata": {
        "colab": {
          "base_uri": "https://localhost:8080/"
        },
        "id": "IxKrm6KIs2v8",
        "outputId": "cef9c515-7154-45e4-f797-6beb29f4bc5e"
      },
      "source": [
        "fish_data = [[l, w] for l, w in zip(length, weight)]\n",
        "\n",
        "print(fish_data)"
      ],
      "execution_count": 6,
      "outputs": [
        {
          "output_type": "stream",
          "text": [
            "[[25.4, 242.0], [26.3, 290.0], [26.5, 340.0], [29.0, 363.0], [29.0, 430.0], [29.7, 450.0], [29.7, 500.0], [30.0, 390.0], [30.0, 450.0], [30.7, 500.0], [31.0, 475.0], [31.0, 500.0], [31.5, 500.0], [32.0, 340.0], [32.0, 600.0], [32.0, 600.0], [33.0, 700.0], [33.0, 700.0], [33.5, 610.0], [33.5, 650.0], [34.0, 575.0], [34.0, 685.0], [34.5, 620.0], [35.0, 680.0], [35.0, 700.0], [35.0, 725.0], [35.0, 720.0], [36.0, 714.0], [36.0, 850.0], [37.0, 1000.0], [38.5, 920.0], [38.5, 955.0], [39.5, 925.0], [41.0, 975.0], [41.0, 950.0], [9.8, 6.7], [10.5, 7.5], [10.6, 7.0], [11.0, 9.7], [11.2, 9.8], [11.3, 8.7], [11.8, 10.0], [11.8, 9.9], [12.0, 9.8], [12.2, 12.2], [12.4, 13.4], [13.0, 12.2], [14.3, 19.7], [15.0, 19.9]]\n"
          ],
          "name": "stdout"
        }
      ]
    },
    {
      "cell_type": "markdown",
      "metadata": {
        "id": "rqTJtdQAtLW5"
      },
      "source": [
        "2차원 리스트를 만들기 위해서 파이썬의 zip()함수와 리스트 내포 구문을 사용한다.\n",
        "\n",
        "zip()함수는 나열된 리스트 각각에서 하나씩 원소를 꺼내서 반환한다.\n",
        "\n",
        "for문은 zip()함수로 length와 weight 리스트에서 원소를 하나씩 꺼내서 l과 w에 할당한다.\n",
        "\n",
        "그러면 [l, w]가 하나의 원소로 구성된 2차원 리스트가 만들어진다."
      ]
    },
    {
      "cell_type": "markdown",
      "metadata": {
        "id": "a70YpNoVujH3"
      },
      "source": [
        "# **정답 준비하기**"
      ]
    },
    {
      "cell_type": "markdown",
      "metadata": {
        "id": "cBZUzWRwujaC"
      },
      "source": [
        "머신러닝이 생선의 길이와 무게를 보고 도미와 빙어를 구분하는 규칙을 찾기 위해서는 샘플의 어떤게 도미인지 빙어인지 알려줘야한다.\n",
        "\n",
        "이런 방식을 지도학습이라고한다."
      ]
    },
    {
      "cell_type": "code",
      "metadata": {
        "colab": {
          "base_uri": "https://localhost:8080/"
        },
        "id": "iD5BB00NwSMN",
        "outputId": "f02c2c7f-aff2-40e1-cc77-a3d487294ab6"
      },
      "source": [
        "fish_target = [1] * 35 + [0] * 14\n",
        "print(fish_target)"
      ],
      "execution_count": 7,
      "outputs": [
        {
          "output_type": "stream",
          "text": [
            "[1, 1, 1, 1, 1, 1, 1, 1, 1, 1, 1, 1, 1, 1, 1, 1, 1, 1, 1, 1, 1, 1, 1, 1, 1, 1, 1, 1, 1, 1, 1, 1, 1, 1, 1, 0, 0, 0, 0, 0, 0, 0, 0, 0, 0, 0, 0, 0, 0]\n"
          ],
          "name": "stdout"
        }
      ]
    },
    {
      "cell_type": "markdown",
      "metadata": {
        "id": "DDls4R4jwZB8"
      },
      "source": [
        "머신러닝에서 이진 분류, 2개의 클래스를 구분하는 경우에 찾으려는 대상을 1로 놓고 그 외에는 0으로 놓는다.\n",
        "\n",
        "우리는 찾으려는 대상이 도미이기 때문에 도미를 1로 빙어를 0으로 놓았다. 반대로 빙어가 찾는 대상이라면 빙어를 1로 도미를 0으로 놓으면 된다."
      ]
    },
    {
      "cell_type": "markdown",
      "metadata": {
        "id": "-HpCsN-cxxp9"
      },
      "source": [
        "# **학습하기**"
      ]
    },
    {
      "cell_type": "markdown",
      "metadata": {
        "id": "E5636xEXzW1D"
      },
      "source": [
        "사이킷런 패키지에 KNeighborsClassifier 클래스라는 k-최근접 이웃 알고리즘이 구현이 되어있다."
      ]
    },
    {
      "cell_type": "code",
      "metadata": {
        "id": "dEveFssTxqgd"
      },
      "source": [
        "from sklearn.neighbors import KNeighborsClassifier\n",
        "\n",
        "kn = KNeighborsClassifier()"
      ],
      "execution_count": 8,
      "outputs": []
    },
    {
      "cell_type": "markdown",
      "metadata": {
        "id": "Qw6xkt9Yyh-Z"
      },
      "source": [
        "k-최근접 이웃 알고리즘을 이용하기 위해서 KNeighborsClassifier를 임포트한다.\n",
        "\n",
        "임포트한 클래스의 객체를 만든다."
      ]
    },
    {
      "cell_type": "code",
      "metadata": {
        "colab": {
          "base_uri": "https://localhost:8080/"
        },
        "id": "W_BwuoKzy6U1",
        "outputId": "3c4a089b-6abf-49cc-cda2-9cb25aa9a435"
      },
      "source": [
        "kn.fit(fish_data, fish_target)"
      ],
      "execution_count": 9,
      "outputs": [
        {
          "output_type": "execute_result",
          "data": {
            "text/plain": [
              "KNeighborsClassifier(algorithm='auto', leaf_size=30, metric='minkowski',\n",
              "                     metric_params=None, n_jobs=None, n_neighbors=5, p=2,\n",
              "                     weights='uniform')"
            ]
          },
          "metadata": {
            "tags": []
          },
          "execution_count": 9
        }
      ]
    },
    {
      "cell_type": "markdown",
      "metadata": {
        "id": "AQBzNDGQz67a"
      },
      "source": [
        "fish_data와 fish_target 이 두 데이터를 객체의 fit()메소드에 전달합니다.\n",
        "\n",
        "그러면 fit()메소드가 도미를 찾기 위한 기준(규칙)을 학습합니다.\n",
        "\n",
        "이때 객체를 모델이라고 부르고, 모델에 데이터를 전달하여 규칙을 학습하는 과정을 훈련이라고 부릅니다.\n"
      ]
    },
    {
      "cell_type": "code",
      "metadata": {
        "colab": {
          "base_uri": "https://localhost:8080/"
        },
        "id": "gQ04PedM1fNs",
        "outputId": "97c8cc4f-72e6-475e-b366-ba2649ba0b50"
      },
      "source": [
        "kn.score(fish_data, fish_target)"
      ],
      "execution_count": 10,
      "outputs": [
        {
          "output_type": "execute_result",
          "data": {
            "text/plain": [
              "1.0"
            ]
          },
          "metadata": {
            "tags": []
          },
          "execution_count": 10
        }
      ]
    },
    {
      "cell_type": "markdown",
      "metadata": {
        "id": "bIbRqjz12QMu"
      },
      "source": [
        "훈련이 끝나면 모델이 얼마나 잘 훈련되었는지 평가해야한다.\n",
        "\n",
        "모델을 평가하기 위해서는 사이킷런의 score()메소드를 사용하면 된다.\n",
        "\n",
        "이 메소드는 0에서 1 사이의 값을 반환하는데 1은 100% 다 맞췄다는 뜻이다.\n",
        "\n",
        "이 메소드를 통해서 나온 값을 정확도(accuracy)라고 부른다."
      ]
    },
    {
      "cell_type": "markdown",
      "metadata": {
        "id": "lfPX3ctw4AZl"
      },
      "source": [
        "# **k-최근접 이웃 알고리즘**"
      ]
    },
    {
      "cell_type": "markdown",
      "metadata": {
        "id": "Tl8x-Th_-yVZ"
      },
      "source": [
        "k-최근접 이웃 알고리즘은 어떤 데이터에 대한 답을 구할 때 주위의 다른 데이터를 보고 다수를 차지하는 것을 정답으로 사용한다.\n",
        "\n",
        "여기서 k는 주위를 바라볼 이웃의 개수로 default는 5다.\n",
        "\n",
        "정리하면 k-최근접 이웃 알고리즘은 5개의 주변 데이터를 보고, 주변 데이터의 클래스 중 가장 많은 클래스를 정답 클래스로 사용한다.\n",
        "\n",
        "예를 들어서, 주위에 도미가 2개고 빙어가 3개면 빙어가 많으니까 빙어를 정답으로 사용한다."
      ]
    },
    {
      "cell_type": "code",
      "metadata": {
        "colab": {
          "base_uri": "https://localhost:8080/",
          "height": 279
        },
        "id": "i6il-cB38FkZ",
        "outputId": "f734688b-464e-4a2e-e140-dbcb25505c05"
      },
      "source": [
        "plt.scatter(bream_length, bream_weight)\n",
        "plt.scatter(smelt_length, smelt_weight)\n",
        "plt.scatter(30, 600)\n",
        "plt.xlabel('length')\n",
        "plt.ylabel('weight')\n",
        "plt.show()"
      ],
      "execution_count": 14,
      "outputs": [
        {
          "output_type": "display_data",
          "data": {
            "image/png": "[encoded data removed]",
            "text/plain": [
              "<Figure size 432x288 with 1 Axes>"
            ]
          },
          "metadata": {
            "tags": [],
            "needs_background": "light"
          }
        }
      ]
    },
    {
      "cell_type": "markdown",
      "metadata": {
        "id": "1xZlG8IR8Muw"
      },
      "source": [
        "길이가 30cm이고, 무게가 600g인 새로운 생선 데이터가 있다고 가정해보자.\n",
        "\n",
        "직관적으로 봐도 이 데이터는 도미라는 것을 알 수 있다. 왜냐하면 그 데이터의 주변에 다른 도미 데이터가 많기 때문이다.\n",
        "\n",
        "그러면 k-최근접 이웃 알고리즘도 도미라고 판단할까?"
      ]
    },
    {
      "cell_type": "code",
      "metadata": {
        "colab": {
          "base_uri": "https://localhost:8080/"
        },
        "id": "g-ch-4KG5Gue",
        "outputId": "76d34803-02c2-4a53-e6e7-14cad88c9b24"
      },
      "source": [
        "kn.predict([[30, 600]])"
      ],
      "execution_count": 13,
      "outputs": [
        {
          "output_type": "execute_result",
          "data": {
            "text/plain": [
              "array([1])"
            ]
          },
          "metadata": {
            "tags": []
          },
          "execution_count": 13
        }
      ]
    },
    {
      "cell_type": "markdown",
      "metadata": {
        "id": "0XN4nj9d4kVW"
      },
      "source": [
        "predict()메소드는 새로운 데이터의 정답을 예측한다.\n",
        "\n",
        "predict()메소드 또한 fit()메소드와 마찬가지로 데이터를 전달할 때 2차원 리스트로 전달해야한다.\n",
        "\n",
        "새로운 데이터가 도미라면 1, 빙어라면 0이 나온다.\n",
        "\n",
        "반환되는 값은 1이 나왔다. 훈련한 모델은 새로운 생선 데이터를 도미라고 판단했다."
      ]
    },
    {
      "cell_type": "code",
      "metadata": {
        "colab": {
          "base_uri": "https://localhost:8080/"
        },
        "id": "XOC1s5crJQf8",
        "outputId": "5a6e3cea-2512-4b1c-8e4c-bc7c1fd3072a"
      },
      "source": [
        "print(kn._fit_X)\n",
        "print(kn._y)"
      ],
      "execution_count": 22,
      "outputs": [
        {
          "output_type": "stream",
          "text": [
            "[[  25.4  242. ]\n",
            " [  26.3  290. ]\n",
            " [  26.5  340. ]\n",
            " [  29.   363. ]\n",
            " [  29.   430. ]\n",
            " [  29.7  450. ]\n",
            " [  29.7  500. ]\n",
            " [  30.   390. ]\n",
            " [  30.   450. ]\n",
            " [  30.7  500. ]\n",
            " [  31.   475. ]\n",
            " [  31.   500. ]\n",
            " [  31.5  500. ]\n",
            " [  32.   340. ]\n",
            " [  32.   600. ]\n",
            " [  32.   600. ]\n",
            " [  33.   700. ]\n",
            " [  33.   700. ]\n",
            " [  33.5  610. ]\n",
            " [  33.5  650. ]\n",
            " [  34.   575. ]\n",
            " [  34.   685. ]\n",
            " [  34.5  620. ]\n",
            " [  35.   680. ]\n",
            " [  35.   700. ]\n",
            " [  35.   725. ]\n",
            " [  35.   720. ]\n",
            " [  36.   714. ]\n",
            " [  36.   850. ]\n",
            " [  37.  1000. ]\n",
            " [  38.5  920. ]\n",
            " [  38.5  955. ]\n",
            " [  39.5  925. ]\n",
            " [  41.   975. ]\n",
            " [  41.   950. ]\n",
            " [   9.8    6.7]\n",
            " [  10.5    7.5]\n",
            " [  10.6    7. ]\n",
            " [  11.     9.7]\n",
            " [  11.2    9.8]\n",
            " [  11.3    8.7]\n",
            " [  11.8   10. ]\n",
            " [  11.8    9.9]\n",
            " [  12.     9.8]\n",
            " [  12.2   12.2]\n",
            " [  12.4   13.4]\n",
            " [  13.    12.2]\n",
            " [  14.3   19.7]\n",
            " [  15.    19.9]]\n",
            "[1 1 1 1 1 1 1 1 1 1 1 1 1 1 1 1 1 1 1 1 1 1 1 1 1 1 1 1 1 1 1 1 1 1 1 0 0\n",
            " 0 0 0 0 0 0 0 0 0 0 0 0]\n"
          ],
          "name": "stdout"
        }
      ]
    },
    {
      "cell_type": "markdown",
      "metadata": {
        "id": "fXADmDXKJgNu"
      },
      "source": [
        "k-최근접 이웃 알고리즘을 사용하기 위해 준비해야 할 일은 데이터를 모두 가지고 있으면 된다.\n",
        "\n",
        "새로운 데이터에 대해 예측할 때는 가장 가까운 직선거리에 어떤 데이터가 있는지를 살펴보기만 하면 된다.\n",
        "\n",
        "단점은 k-최근접 알고리즘의 이런 특징 때문에 데이터가 아주 많은 경우 사용하기가 어렵다.\n",
        "\n",
        "데이터가 크기 때문에 메모리가 많이 필요하고 직선거리를 계산하는데 많은 시간이 필요하다."
      ]
    },
    {
      "cell_type": "markdown",
      "metadata": {
        "id": "SIn33L6MKUZT"
      },
      "source": [
        "사이킷 런의 KNeighborsClassifier 클래스는 _fit_X 속성에 전달한 fish_data를 모두 가지고 있다. 또한 _y 속성에 전달한 fish_target을 가지고 있다.\n",
        "\n",
        "실제로 k-최근접 이웃 알고리즘은 훈련되는 것은 없는 셈이다.\n",
        "\n",
        "fit()메소드에 전달한 데이터를 모두 저장하고 있다가 새로운 데이터가 등장하면 가장 가까운 데이터를 참고하여 구분한다."
      ]
    },
    {
      "cell_type": "code",
      "metadata": {
        "colab": {
          "base_uri": "https://localhost:8080/"
        },
        "id": "JQj1k87B_r_R",
        "outputId": "53bd2c9c-54ca-4715-8937-8515f8ade5a4"
      },
      "source": [
        "kn49 = KNeighborsClassifier(n_neighbors=49)\n",
        "\n",
        "kn49.fit(fish_data, fish_target)\n",
        "kn49.score(fish_data, fish_target)"
      ],
      "execution_count": 18,
      "outputs": [
        {
          "output_type": "execute_result",
          "data": {
            "text/plain": [
              "0.7142857142857143"
            ]
          },
          "metadata": {
            "tags": []
          },
          "execution_count": 18
        }
      ]
    },
    {
      "cell_type": "markdown",
      "metadata": {
        "id": "u1kQAjB-_4CO"
      },
      "source": [
        "주변의 이웃을 바라볼 개수, 즉, 참고 데이터의 개수를 지정할 수 있다.\n",
        "\n",
        "KNeighborsClassifier 클래스의 n_neighbors 매개변수에 참고 데이터의 개수를 지정하면 된다.\n",
        "\n",
        "정확도 71%가 나왔다. 참고 데이터의 개수를 49개로 지정했고, fish_data의 데이터 49개 중에 도미 클래스가 35개이므로 빙어 클래스도 도미라고 예측하기 때문에 35/49의 정확도 71%가 나온 것이다."
      ]
    }
  ]
}