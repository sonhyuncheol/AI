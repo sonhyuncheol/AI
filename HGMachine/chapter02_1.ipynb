{
  "nbformat": 4,
  "nbformat_minor": 0,
  "metadata": {
    "colab": {
      "name": "chapter02_1.ipynb",
      "provenance": [],
      "authorship_tag": "ABX9TyOt7ZGqDURlhk03AztW8CDs",
      "include_colab_link": true
    },
    "kernelspec": {
      "name": "python3",
      "display_name": "Python 3"
    },
    "language_info": {
      "name": "python"
    }
  },
  "cells": [
    {
      "cell_type": "markdown",
      "metadata": {
        "id": "view-in-github",
        "colab_type": "text"
      },
      "source": [
        "<a href=\"https://colab.research.google.com/github/sonhyuncheol/AI/blob/master/foundation/chapter02_1.ipynb\" target=\"_parent\"><img src=\"https://colab.research.google.com/assets/colab-badge.svg\" alt=\"Open In Colab\"/></a>"
      ]
    },
    {
      "cell_type": "markdown",
      "metadata": {
        "id": "cRYEZqTvAea5"
      },
      "source": [
        "# **지도 학습, 비지도 학습 그리고 강화학습**\n",
        "머신러닝 알고리즘은 크게 지도 학습(Supervised Learning), 비지도 학습(Unsuperviesed Learning) 그리고 강화학습(Reinforcement Learning)으로 나눌 수 있다."
      ]
    },
    {
      "cell_type": "markdown",
      "metadata": {
        "id": "ya5qGkJAbafe"
      },
      "source": [
        "![그림1.png](data:image/png;base64,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)"
      ]
    },
    {
      "cell_type": "markdown",
      "metadata": {
        "id": "VktxqF7jBfrR"
      },
      "source": [
        "지도 학습 알고리즘은 훈련하기 위한 데이터와 정답이 필요하다.\n",
        "\n",
        "그 데이터와 정답을 입력(input)과 타깃(target)이라고 부른다.\n",
        "\n",
        "이 둘을 합쳐서 훈련 데이터(training data)라고 부른다."
      ]
    },
    {
      "cell_type": "markdown",
      "metadata": {
        "id": "BefsHa_QWHw7"
      },
      "source": [
        "비지도 학습 알고리즘은 타깃(target)데이터는 없고, 입력(input)만 사용한다.\n",
        "\n",
        "즉, 입력 데이터만 있을 때는 비지도 학습 알고리즘을 사용한다."
      ]
    },
    {
      "cell_type": "markdown",
      "metadata": {
        "id": "0_NwOLxzWhzy"
      },
      "source": [
        "강화학습 알고리즘은 타깃이 아니라 모델이 행동을 수행한 다음 주변의 환경에서 행동의 결과를 피드백을 받아서 개선해 나가는 알고리즘이다.\n",
        "\n",
        "궁극적으로 행동한 결과로 환경이 주는 보상을 사용해 학습한다."
      ]
    },
    {
      "cell_type": "markdown",
      "metadata": {
        "id": "vT32KzhNb2SY"
      },
      "source": [
        "# **훈련 세트(train set) & 테스트 세트(test set)**\n",
        "\n",
        "chapter01_3에서 score메소드는 fit메소드에서 사용한 데이터로 평가하면 안된다고 했었다.\n",
        "\n",
        "연습 문제와 시험 문제가 같다면 당연히 100점을 받을 것이다. 머신러닝도 마찬가지다.\n",
        "\n",
        "fit()메소드에서 훈련할 때 사용한 데이터와 score()메소드로 평가할 데이터는 각각 달라야 한다.\n",
        "\n",
        "즉, 훈련에 사용한 데이터로 모델을 평가하는 것은 적절하지 않고, 훈련할 때 사용하지 않은 데이터로 평가해야 한다."
      ]
    },
    {
      "cell_type": "markdown",
      "metadata": {
        "id": "_Qk5K6LecsDe"
      },
      "source": [
        "평가에 사용하는 데이터를 테스트 세트(test set)라고 부른다.\n",
        "\n",
        "훈련에 사용되는 데이터를 훈련 세트(train set)라고 부른다.\n",
        "\n",
        "훈련 세트와 테스트 세트를 나누는 가장 간단한 방법은 두 가지 있다.\n",
        "\n",
        "평가를 위해 또 다른 데이터를 준비하거나 이미 준비된 데이터 중에 일부를 떼어 내어 활용하는 것이다."
      ]
    },
    {
      "cell_type": "code",
      "metadata": {
        "id": "gXoVEEUhjLiw"
      },
      "source": [
        "fish_length = [25.4, 26.3, 26.5, 29.0, 29.0, 29.7, 29.7, 30.0, 30.0, 30.7, 31.0, 31.0, \n",
        "                31.5, 32.0, 32.0, 32.0, 33.0, 33.0, 33.5, 33.5, 34.0, 34.0, 34.5, 35.0, \n",
        "                35.0, 35.0, 35.0, 36.0, 36.0, 37.0, 38.5, 38.5, 39.5, 41.0, 41.0, 9.8, \n",
        "                10.5, 10.6, 11.0, 11.2, 11.3, 11.8, 11.8, 12.0, 12.2, 12.4, 13.0, 14.3, 15.0]\n",
        "                \n",
        "fish_weight = [242.0, 290.0, 340.0, 363.0, 430.0, 450.0, 500.0, 390.0, 450.0, 500.0, 475.0, 500.0, \n",
        "                500.0, 340.0, 600.0, 600.0, 700.0, 700.0, 610.0, 650.0, 575.0, 685.0, 620.0, 680.0, \n",
        "                700.0, 725.0, 720.0, 714.0, 850.0, 1000.0, 920.0, 955.0, 925.0, 975.0, 950.0, 6.7, \n",
        "                7.5, 7.0, 9.7, 9.8, 8.7, 10.0, 9.9, 9.8, 12.2, 13.4, 12.2, 19.7, 19.9]"
      ],
      "execution_count": 1,
      "outputs": []
    },
    {
      "cell_type": "code",
      "metadata": {
        "id": "jsOsX0uqjUEI"
      },
      "source": [
        "fish_data = [[l, w] for l, w in zip(fish_length, fish_weight)]\n",
        "fish_target = [1]*35 + [0]*14"
      ],
      "execution_count": 2,
      "outputs": []
    },
    {
      "cell_type": "markdown",
      "metadata": {
        "id": "R9xMPnPOjutm"
      },
      "source": [
        "길이와 무게를 하나의 리스트로 담은 2차원 리스트로 만들었다.\n",
        "\n",
        "하나의 생선 데이터를 샘플이라고 부르는데, 도미와 빙어는 각각 35마리, 14마리가 있으므로 전체 데이터는 49개의 샘플이 있다.\n",
        "\n",
        "각각의 샘플은 각각 길이 특성과 무게 특성이 있다."
      ]
    },
    {
      "cell_type": "code",
      "metadata": {
        "id": "Mrhq8jmZkP_G"
      },
      "source": [
        "# 훈련 세트 입력 0 ~ 34번째 인덱스까지 사용\n",
        "train_input = fish_data[:35]\n",
        "# 훈련 세트 타깃 0 ~ 34번째 인덱스까지 사용\n",
        "train_target = fish_target[:35]\n",
        "\n",
        "# 테스트 세트 입력 35 ~ 마지막 인덱스까지 사용\n",
        "test_input = fish_data[35:]\n",
        "# 테스트 세트 타깃 35 ~ 마지막 인덱스까지 사용\n",
        "test_target = fish_target[35:]"
      ],
      "execution_count": 3,
      "outputs": []
    },
    {
      "cell_type": "markdown",
      "metadata": {
        "id": "-xHvOpgLklFt"
      },
      "source": [
        "생선 데이터의 처음 35개를 훈련 세트로, 나머지 14개를 테스트 세트로 사용한다.\n",
        "\n",
        "파이썬의 슬라이싱 연산을 사용하여 훈련 세트와 테스트 세트를 나눈다.\n",
        "\n",
        "슬라이싱을 사용할 때는 마지막 인덱스의 원소는 포함되지 않는다는 것을 주의해야 한다."
      ]
    },
    {
      "cell_type": "code",
      "metadata": {
        "colab": {
          "base_uri": "https://localhost:8080/"
        },
        "id": "UrUESJB2lHZY",
        "outputId": "0a276cc9-721f-4d17-acf3-258a62df531e"
      },
      "source": [
        "from sklearn.neighbors import KNeighborsClassifier\n",
        "\n",
        "kn = KNeighborsClassifier()\n",
        "\n",
        "kn = kn.fit(train_input, train_target)\n",
        "kn.score(test_input, test_target)"
      ],
      "execution_count": 5,
      "outputs": [
        {
          "output_type": "execute_result",
          "data": {
            "text/plain": [
              "0.0"
            ]
          },
          "metadata": {
            "tags": []
          },
          "execution_count": 5
        }
      ]
    },
    {
      "cell_type": "markdown",
      "metadata": {
        "id": "MryfRdGDlZHP"
      },
      "source": [
        "훈련 세트로 fit()메소드을 사용해 모델을 훈련하고 테스트 세트로 score()메소드를 사용해 평가한다.\n",
        "\n",
        "정확도가 0%가 나왔다. 즉, 테스트 샘플 14개를 모두 못 맞힌 것이다.\n",
        "\n",
        "왜냐하면 훈련 세트와 테스트 세트로 나눌 때 훈련 세트에는 도미만 있고, 테스트 세트는 빙어만 있다.\n",
        "\n",
        "빙어가 없는 훈련 세트로 훈련을 하고 빙어가 있는 테스트 세트로 훈련을 하니 당연히 정답을 하나도 맞히지 못한다.\n",
        "\n",
        "이러한 문제를 훈련 세트와 테스트 세트에 샘플이 골고루 섞여 있지 않아서 샘플링이 한쪽으로 치우쳤다는 의미로 샘플링 편향(sampling bias)이라고 부른다.\n",
        "\n",
        "특정 종류의 샘플이 과도하게 많은 샘플링 편향을 가지고 있다면 제대로 된 지도 학습 모델을 만들 수 없다."
      ]
    },
    {
      "cell_type": "markdown",
      "metadata": {
        "id": "Eko6BhLfnmxc"
      },
      "source": [
        "# **넘파이(Numpy)**\n",
        "이 문제를 해결하기 위해서는 훈련 세트와 테스트 세트를 나누기 전에 데이터를 섞든지 아니면 골고루 샘플을 뽑아서 훈련 세트와 테스트 세트로 만들어야 한다.\n",
        "\n",
        "이런 작업을 간편하게 처리할 수 있는 방법이 넘파이(Numpy)라는 파이썬 패키지를 사용하는 것이다."
      ]
    },
    {
      "cell_type": "markdown",
      "metadata": {
        "id": "H40UYOEHoo2i"
      },
      "source": [
        "넘파이는 파이썬의 대표적인 배열 라이브러리이다. \n",
        "\n",
        "넘파이는 고차원 배열을 손쉽게 조작할 수 있는 간편한 도구를 많이 제공한다.\n",
        "\n",
        "앞에서 사용한 사이킷런이나 맷플롯립 같은 이런 라이브러리들도 넘파이에 크게 의존한다.\n",
        "\n",
        "입력 데이터가 모두 넘파이 배열로 전달될 것이라고 가정하고 있다.\n",
        "\n",
        "예를 들어서 앞에서 사이킷런의 predict()메소드는 array([1])로 반환했었다. 즉, 넘파이 배열로 반환한 것이다.\n",
        "\n",
        "우리는 입력값을 2차원 리스트로 predict()메소드에 전달했었다. \n",
        "\n",
        "predict()메소드는 그 2차원 리스트를 넘파이 배열로 변환을 해서 처리하고, 넘파이 배열로 반환하는 것이다.\n"
      ]
    },
    {
      "cell_type": "markdown",
      "metadata": {
        "id": "FxEi069usmby"
      },
      "source": [
        "![그림1.png](data:image/png;base64,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)"
      ]
    },
    {
      "cell_type": "markdown",
      "metadata": {
        "id": "Yqb9Lji7rigq"
      },
      "source": [
        "스칼라 값은 0차원 배열, 0D 텐서라고 부른다.\n",
        "\n",
        "1차원 배열은 한 개의 축으로 나열되어있다. 일반적으로 1차원 배열을 벡터, 1D 텐서라고 부른다.\n",
        "\n",
        "2차원 배열은 행과 열로 두 개의 축으로 나열되어있다. 일반적으로 2차원 배열을 행렬, 2D 텐서라고 부른다.\n",
        "\n",
        "3차원 배열을 세 개의 축으로 나열되어있다. 일반적으로 3차원 배열을 3D 텐서라고 부른다.\n",
        "\n",
        "1차원 배열을 말할 때 즉, 벡터에서는 위의 그림처럼 7개의 원소로 되어있으면 7차원 벡터라고도 부른다.\n",
        "\n",
        "참고로 파이썬의 리스트는 서로 다른 데이터 타입의 원소가 존재할 수 있지만 넘파이 배열에서는 불가능하다."
      ]
    },
    {
      "cell_type": "code",
      "metadata": {
        "colab": {
          "base_uri": "https://localhost:8080/"
        },
        "id": "1ohQSXLdskuK",
        "outputId": "345f5fa0-b490-49c6-a0e7-2ddcad829330"
      },
      "source": [
        "import numpy as np\n",
        "\n",
        "input_arr = np.array(fish_data)\n",
        "target_arr = np.array(fish_target)\n",
        "\n",
        "print(input_arr)"
      ],
      "execution_count": 8,
      "outputs": [
        {
          "output_type": "stream",
          "text": [
            "[[  25.4  242. ]\n",
            " [  26.3  290. ]\n",
            " [  26.5  340. ]\n",
            " [  29.   363. ]\n",
            " [  29.   430. ]\n",
            " [  29.7  450. ]\n",
            " [  29.7  500. ]\n",
            " [  30.   390. ]\n",
            " [  30.   450. ]\n",
            " [  30.7  500. ]\n",
            " [  31.   475. ]\n",
            " [  31.   500. ]\n",
            " [  31.5  500. ]\n",
            " [  32.   340. ]\n",
            " [  32.   600. ]\n",
            " [  32.   600. ]\n",
            " [  33.   700. ]\n",
            " [  33.   700. ]\n",
            " [  33.5  610. ]\n",
            " [  33.5  650. ]\n",
            " [  34.   575. ]\n",
            " [  34.   685. ]\n",
            " [  34.5  620. ]\n",
            " [  35.   680. ]\n",
            " [  35.   700. ]\n",
            " [  35.   725. ]\n",
            " [  35.   720. ]\n",
            " [  36.   714. ]\n",
            " [  36.   850. ]\n",
            " [  37.  1000. ]\n",
            " [  38.5  920. ]\n",
            " [  38.5  955. ]\n",
            " [  39.5  925. ]\n",
            " [  41.   975. ]\n",
            " [  41.   950. ]\n",
            " [   9.8    6.7]\n",
            " [  10.5    7.5]\n",
            " [  10.6    7. ]\n",
            " [  11.     9.7]\n",
            " [  11.2    9.8]\n",
            " [  11.3    8.7]\n",
            " [  11.8   10. ]\n",
            " [  11.8    9.9]\n",
            " [  12.     9.8]\n",
            " [  12.2   12.2]\n",
            " [  12.4   13.4]\n",
            " [  13.    12.2]\n",
            " [  14.3   19.7]\n",
            " [  15.    19.9]]\n"
          ],
          "name": "stdout"
        }
      ]
    },
    {
      "cell_type": "markdown",
      "metadata": {
        "id": "jUsKDhcwwzYU"
      },
      "source": [
        "파이썬 리스트를 넘파이 배열로 바꿀 때는 넘파이 array() 함수에 파이썬 리스트를 전달하면 된다."
      ]
    },
    {
      "cell_type": "code",
      "metadata": {
        "colab": {
          "base_uri": "https://localhost:8080/"
        },
        "id": "hOn4Cw-exY_8",
        "outputId": "469914e9-8cd8-4e63-eacd-2107a98250aa"
      },
      "source": [
        "print(input_arr.shape)"
      ],
      "execution_count": 9,
      "outputs": [
        {
          "output_type": "stream",
          "text": [
            "(49, 2)\n"
          ],
          "name": "stdout"
        }
      ]
    },
    {
      "cell_type": "markdown",
      "metadata": {
        "id": "H7VSee0dxamd"
      },
      "source": [
        "넘파이 배열 객체는 배열의 크기를 알려주는 shape속성을 제공한다.\n",
        "\n",
        "이 명령을 사용하면 (샘플 수, 특성 수)를 출력한다.\n",
        "\n",
        "49개의 샘플과 2개의 특성(길이, 무게)이 있다는 것을 알려준다."
      ]
    },
    {
      "cell_type": "markdown",
      "metadata": {
        "id": "FuRsPLL702-x"
      },
      "source": [
        "# **데이터 섞기**"
      ]
    },
    {
      "cell_type": "markdown",
      "metadata": {
        "id": "MGwkml8i08EI"
      },
      "source": [
        "배열에서 랜덤하게 샘플을 선택해 훈련 세트와 테스트 세트를 만들 것이다.\n",
        "\n",
        "배열을 섞은 후에 나누는 방식 대신에 무작위로 샘플을 고르는 방법을 선택했다.\n",
        "\n",
        "한 가지 주의할 점은 입력과 타깃이 쌍을 이뤄서 섞여야한다.\n",
        "\n",
        "예를 들어서 첫 번째 샘플의 특성 값과 첫 번째 샘플에 대한 타깃 값이 쌍을 이뤄서 같은 위치로 이동해야한다는 것이다."
      ]
    },
    {
      "cell_type": "code",
      "metadata": {
        "colab": {
          "base_uri": "https://localhost:8080/"
        },
        "id": "LXkqbGLRxyBZ",
        "outputId": "ea0ba19c-de99-450e-911a-a1c349b8d226"
      },
      "source": [
        "np.random.seed(42)\n",
        "index = np.arange(49)\n",
        "np.random.shuffle(index)\n",
        "\n",
        "print(index)"
      ],
      "execution_count": 11,
      "outputs": [
        {
          "output_type": "stream",
          "text": [
            "[13 45 47 44 17 27 26 25 31 19 12  4 34  8  3  6 40 41 46 15  9 16 24 33\n",
            " 30  0 43 32  5 29 11 36  1 21  2 37 35 23 39 10 22 18 48 20  7 42 14 28\n",
            " 38]\n"
          ],
          "name": "stdout"
        }
      ]
    },
    {
      "cell_type": "markdown",
      "metadata": {
        "id": "aN6lhcvhx5p4"
      },
      "source": [
        "먼저 총 49개의 샘플이 있으니까 0~48개까지 인덱스 배열을 만든다.\n",
        "\n",
        "인덱스를 랜덤하게 섞은 다음에 랜덤하게 섞은 인덱스 배열에서 앞부분의 35개를 훈련 세트로 뒷부분의 14개를 테스트 세트로 나눠서 사용하면 된다."
      ]
    },
    {
      "cell_type": "markdown",
      "metadata": {
        "id": "lDjZhdm85I2f"
      },
      "source": [
        "넘파이에서 무작위 결과를 만드는 함수들은 실행할 때마다 다른 결과를 만든다.\n",
        "\n",
        "일정한 결과를 얻으려면 초기에 random seed를 지정하면 된다.\n",
        "\n",
        "넘파이 arrange() 함수에 정수 N을 전달하면 0에서부터 N-1까지 1씩 증가하는 배열을 만든다.\n",
        "\n",
        "넘파이 random 패키지 아래에 있는 shuffle() 함수는 주어진 배열을 무작위로 섞는다.\n",
        "\n"
      ]
    },
    {
      "cell_type": "code",
      "metadata": {
        "id": "MHsBu7_r5Xic"
      },
      "source": [
        "train_input = input_arr[index[:35]]\n",
        "train_target = target_arr[index[:35]]\n",
        "\n",
        "test_input = input_arr[index[35:]]\n",
        "test_target = target_arr[index[35:]]"
      ],
      "execution_count": 12,
      "outputs": []
    },
    {
      "cell_type": "markdown",
      "metadata": {
        "id": "pd13cpgR5evj"
      },
      "source": [
        "넘파이는 슬라이싱 외에 배열 인덱싱이란 기능을 제공한다.\n",
        "\n",
        "배열 인덱싱은 1개의 인덱스가 아닌 여러 개의 인덱스로 한 번에 여러 개의 원소를 선택할 수 있다.\n",
        "\n",
        "랜덤하게 섞인 인덱스 배열의 처음 35개를 input_arr와 target_arr에 전달하여 랜덤하게 35개의 샘플을 훈련 세트로 만든다.\n",
        "\n",
        "나머지 14개를 테스트 세트로 만든다."
      ]
    },
    {
      "cell_type": "code",
      "metadata": {
        "colab": {
          "base_uri": "https://localhost:8080/",
          "height": 279
        },
        "id": "JDTM5u_i67lY",
        "outputId": "1dab02b5-8aff-4474-d747-91bdd8e2549d"
      },
      "source": [
        "import matplotlib.pyplot as plt\n",
        "\n",
        "plt.scatter(train_input[:, 0], train_input[:, 1])\n",
        "plt.scatter(test_input[:, 0], test_input[:, 1])\n",
        "plt.xlabel('length')\n",
        "plt.ylabel('weight')\n",
        "plt.show()"
      ],
      "execution_count": 13,
      "outputs": [
        {
          "output_type": "display_data",
          "data": {
            "image/png": "[encoded data removed]",
            "text/plain": [
              "<Figure size 432x288 with 1 Axes>"
            ]
          },
          "metadata": {
            "tags": [],
            "needs_background": "light"
          }
        }
      ]
    },
    {
      "cell_type": "markdown",
      "metadata": {
        "id": "qFaOQKlY68Q3"
      },
      "source": [
        "2차원 배열은 행과 열 인덱스를 콤마(,)로 나누어 지정한다."
      ]
    },
    {
      "cell_type": "markdown",
      "metadata": {
        "id": "UuObHmZB6-IZ"
      },
      "source": [
        "# **두 번째 머신러닝 프로그램**"
      ]
    },
    {
      "cell_type": "code",
      "metadata": {
        "colab": {
          "base_uri": "https://localhost:8080/"
        },
        "id": "aciPfx62AJr2",
        "outputId": "13d10685-8364-443e-a44a-561114593368"
      },
      "source": [
        "kn = kn.fit(train_input, train_target)\n",
        "\n",
        "kn.score(test_input, test_target)"
      ],
      "execution_count": 15,
      "outputs": [
        {
          "output_type": "execute_result",
          "data": {
            "text/plain": [
              "1.0"
            ]
          },
          "metadata": {
            "tags": []
          },
          "execution_count": 15
        }
      ]
    },
    {
      "cell_type": "markdown",
      "metadata": {
        "id": "Y2PMGMhiAz7z"
      },
      "source": [
        "fit() 메소드를 실행할 때마다 KNeighborsClassifier 클래스의 객체는 이전에 학습한 모든 것을 잃어버린다.\n",
        "\n",
        "이전의 모델을 그대로 두고 싶다면 KNeighborsClassifier 클래스 객체를 새로 만들어야 한다."
      ]
    },
    {
      "cell_type": "code",
      "metadata": {
        "colab": {
          "base_uri": "https://localhost:8080/"
        },
        "id": "ENTa6wqAAZqs",
        "outputId": "1c610cc0-e70d-461d-e9bc-554f26bc88e7"
      },
      "source": [
        "kn.predict(test_input)"
      ],
      "execution_count": 16,
      "outputs": [
        {
          "output_type": "execute_result",
          "data": {
            "text/plain": [
              "array([0, 0, 1, 0, 1, 1, 1, 0, 1, 1, 0, 1, 1, 0])"
            ]
          },
          "metadata": {
            "tags": []
          },
          "execution_count": 16
        }
      ]
    },
    {
      "cell_type": "code",
      "metadata": {
        "colab": {
          "base_uri": "https://localhost:8080/"
        },
        "id": "r36vEvqFAfTo",
        "outputId": "b3bd261a-922a-449a-8a5f-8a84ba7466f1"
      },
      "source": [
        "test_target"
      ],
      "execution_count": 17,
      "outputs": [
        {
          "output_type": "execute_result",
          "data": {
            "text/plain": [
              "array([0, 0, 1, 0, 1, 1, 1, 0, 1, 1, 0, 1, 1, 0])"
            ]
          },
          "metadata": {
            "tags": []
          },
          "execution_count": 17
        }
      ]
    },
    {
      "cell_type": "markdown",
      "metadata": {
        "id": "aCk7oUauBGCk"
      },
      "source": [
        "predict()메소드의 출력 결과가 test_target의 출력과 동일하게 array()로 감싸져있다.\n",
        "\n",
        "이 값은 넘파이 배열을 의미한다.\n",
        "\n",
        "위에서 말한 것처럼 predict()메소드가 반환하는 값은 넘파이 배열이라는 것을 알 수 있다.\n",
        "\n",
        "정리하면 사이킷런 모델의 입력과 출력은 모두 넘파이 배열이다.\n",
        "\n",
        "넘파이는 많은 파이썩 과학 라이브러리에서 사용하느 표준 데이터다."
      ]
    }
  ]
}
