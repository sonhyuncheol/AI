{
  "nbformat": 4,
  "nbformat_minor": 0,
  "metadata": {
    "colab": {
      "name": "chapter03_2.ipynb",
      "provenance": [],
      "authorship_tag": "ABX9TyNJwUOsVSOuj2QDQkIY7KYT",
      "include_colab_link": true
    },
    "kernelspec": {
      "name": "python3",
      "display_name": "Python 3"
    },
    "language_info": {
      "name": "python"
    }
  },
  "cells": [
    {
      "cell_type": "markdown",
      "metadata": {
        "id": "view-in-github",
        "colab_type": "text"
      },
      "source": [
        "<a href=\"https://colab.research.google.com/github/sonhyuncheol/AI/blob/master/foundation/chapter03_2.ipynb\" target=\"_parent\"><img src=\"https://colab.research.google.com/assets/colab-badge.svg\" alt=\"Open In Colab\"/></a>"
      ]
    },
    {
      "cell_type": "markdown",
      "metadata": {
        "id": "mj-qotoMJrY0"
      },
      "source": [
        "# **k-최근접 이웃의 한계**"
      ]
    },
    {
      "cell_type": "code",
      "metadata": {
        "id": "HTDgmHqdKuZT"
      },
      "source": [
        "import numpy as np\n",
        "\n",
        "perch_length = np.array(\n",
        "    [8.4, 13.7, 15.0, 16.2, 17.4, 18.0, 18.7, 19.0, 19.6, 20.0, \n",
        "     21.0, 21.0, 21.0, 21.3, 22.0, 22.0, 22.0, 22.0, 22.0, 22.5, \n",
        "     22.5, 22.7, 23.0, 23.5, 24.0, 24.0, 24.6, 25.0, 25.6, 26.5, \n",
        "     27.3, 27.5, 27.5, 27.5, 28.0, 28.7, 30.0, 32.8, 34.5, 35.0, \n",
        "     36.5, 36.0, 37.0, 37.0, 39.0, 39.0, 39.0, 40.0, 40.0, 40.0, \n",
        "     40.0, 42.0, 43.0, 43.0, 43.5, 44.0]\n",
        "     )\n",
        "\n",
        "perch_weight = np.array(\n",
        "    [5.9, 32.0, 40.0, 51.5, 70.0, 100.0, 78.0, 80.0, 85.0, 85.0, \n",
        "     110.0, 115.0, 125.0, 130.0, 120.0, 120.0, 130.0, 135.0, 110.0, \n",
        "     130.0, 150.0, 145.0, 150.0, 170.0, 225.0, 145.0, 188.0, 180.0, \n",
        "     197.0, 218.0, 300.0, 260.0, 265.0, 250.0, 250.0, 300.0, 320.0, \n",
        "     514.0, 556.0, 840.0, 685.0, 700.0, 700.0, 690.0, 900.0, 650.0, \n",
        "     820.0, 850.0, 900.0, 1015.0, 820.0, 1100.0, 1000.0, 1100.0, \n",
        "     1000.0, 1000.0]\n",
        "     )"
      ],
      "execution_count": 1,
      "outputs": []
    },
    {
      "cell_type": "code",
      "metadata": {
        "id": "zOiWuvJdKpzC"
      },
      "source": [
        "from sklearn.model_selection import train_test_split\n",
        "\n",
        "# 훈련 세트와 테스트 세트로 나눕니다\n",
        "train_input, test_input, train_target, test_target = train_test_split(\n",
        "    perch_length, perch_weight, random_state=42)\n",
        "\n",
        "# 훈련 세트와 테스트 세트를 2차원 배열로 바꿉니다\n",
        "train_input = train_input.reshape(-1, 1)\n",
        "test_input = test_input.reshape(-1, 1)"
      ],
      "execution_count": 2,
      "outputs": []
    },
    {
      "cell_type": "code",
      "metadata": {
        "colab": {
          "base_uri": "https://localhost:8080/"
        },
        "id": "xiP30YzyKycP",
        "outputId": "995673df-24ef-4d43-c007-81f3c6c47b01"
      },
      "source": [
        "from sklearn.neighbors import KNeighborsRegressor\n",
        "\n",
        "knr = KNeighborsRegressor(n_neighbors=3)\n",
        "# k-최근접 이웃 회귀 모델을 훈련합니다\n",
        "knr.fit(train_input, train_target)"
      ],
      "execution_count": 3,
      "outputs": [
        {
          "output_type": "execute_result",
          "data": {
            "text/plain": [
              "KNeighborsRegressor(algorithm='auto', leaf_size=30, metric='minkowski',\n",
              "                    metric_params=None, n_jobs=None, n_neighbors=3, p=2,\n",
              "                    weights='uniform')"
            ]
          },
          "metadata": {
            "tags": []
          },
          "execution_count": 3
        }
      ]
    },
    {
      "cell_type": "code",
      "metadata": {
        "colab": {
          "base_uri": "https://localhost:8080/"
        },
        "id": "61D_L3CFK1pX",
        "outputId": "fb67d66f-6cd3-4f04-ed9e-057149fcb8d6"
      },
      "source": [
        "print(knr.predict([[50]]))"
      ],
      "execution_count": 4,
      "outputs": [
        {
          "output_type": "stream",
          "text": [
            "[1033.33333333]\n"
          ],
          "name": "stdout"
        }
      ]
    },
    {
      "cell_type": "markdown",
      "metadata": {
        "id": "vQNwBoorK32Z"
      },
      "source": [
        "회귀 모델을 훈련시켜서 50cm인 농어의 무게를 예측했다.\n",
        "\n",
        "모델은 1,033g정도로 예측했다.\n",
        "\n",
        "하지만 실제 이 농어의 무게는 훨씬 더 많이 나간다.\n",
        "\n",
        "무엇이 문제인지 살펴보자."
      ]
    },
    {
      "cell_type": "code",
      "metadata": {
        "colab": {
          "base_uri": "https://localhost:8080/",
          "height": 279
        },
        "id": "CFH3a74INc0s",
        "outputId": "6bc1029f-26e5-40d5-9095-910bf9e7e6bd"
      },
      "source": [
        "import matplotlib.pyplot as plt\n",
        "\n",
        "# 50cm 농어의 이웃을 구합니다\n",
        "distances, indexes = knr.kneighbors([[50]])\n",
        "\n",
        "# 훈련 세트의 산점도를 그립니다\n",
        "plt.scatter(train_input, train_target)\n",
        "\n",
        "# 훈련 세트 중에서 이웃 샘플만 다시 그립니다\n",
        "plt.scatter(train_input[indexes], train_target[indexes], marker='D')\n",
        "\n",
        "# 50cm 농어 데이터\n",
        "plt.scatter(50, 1033, marker='^')\n",
        "plt.xlabel('length')\n",
        "plt.ylabel('weight')\n",
        "plt.show()"
      ],
      "execution_count": 5,
      "outputs": [
        {
          "output_type": "display_data",
          "data": {
            "image/png": "[encoded data removed]",
            "text/plain": [
              "<Figure size 432x288 with 1 Axes>"
            ]
          },
          "metadata": {
            "tags": [],
            "needs_background": "light"
          }
        }
      ]
    },
    {
      "cell_type": "markdown",
      "metadata": {
        "id": "TBHQLpcYNg0j"
      },
      "source": [
        "길이가 커질수록 농어의 무게가 증가하는 것이 당연하다.\n",
        "\n",
        "하지만 최근접 이웃은 가장 가까이에 있는 이웃을 참고하여 예측값을 만들어낸다.\n",
        "\n",
        "50cm 농어의 이웃은 45cm 근방이기 때문에 이 샘플들의 무게를 평균한다.\n",
        "\n",
        "따라서 새로운 샘플이 훈련 세트의 범위를 벗어나면 엉뚱한 값을 예측할 수 있다."
      ]
    },
    {
      "cell_type": "code",
      "metadata": {
        "colab": {
          "base_uri": "https://localhost:8080/"
        },
        "id": "g-fN3woJcgu3",
        "outputId": "6a3fffa8-51d8-4017-f3d0-18e41307ed53"
      },
      "source": [
        "print(np.mean(train_target[indexes]))"
      ],
      "execution_count": 6,
      "outputs": [
        {
          "output_type": "stream",
          "text": [
            "1033.3333333333333\n"
          ],
          "name": "stdout"
        }
      ]
    },
    {
      "cell_type": "code",
      "metadata": {
        "colab": {
          "base_uri": "https://localhost:8080/"
        },
        "id": "puTfDe3vcg0M",
        "outputId": "b7cf758f-30d0-47a8-e39d-398850b3958c"
      },
      "source": [
        "print(knr.predict([[100]]))"
      ],
      "execution_count": 7,
      "outputs": [
        {
          "output_type": "stream",
          "text": [
            "[1033.33333333]\n"
          ],
          "name": "stdout"
        }
      ]
    },
    {
      "cell_type": "code",
      "metadata": {
        "colab": {
          "base_uri": "https://localhost:8080/",
          "height": 279
        },
        "id": "_FVaZ2GdccZj",
        "outputId": "62b1c0cc-7741-45f8-9204-3841204bf562"
      },
      "source": [
        "# 100cm 농어의 이웃을 구합니다\n",
        "distances, indexes = knr.kneighbors([[100]])\n",
        "\n",
        "# 훈련 세트의 산점도를 그립니다\u001f\n",
        "plt.scatter(train_input, train_target)\n",
        "# 훈련 세트 중에서 이웃 샘플만 다시 그립니다\u001f\n",
        "plt.scatter(train_input[indexes], train_target[indexes], marker='D')\n",
        "# 100cm 농어 데이터\n",
        "plt.scatter(100, 1033, marker='^')\n",
        "plt.xlabel('length')\n",
        "plt.ylabel('weight')\n",
        "plt.show()"
      ],
      "execution_count": 8,
      "outputs": [
        {
          "output_type": "display_data",
          "data": {
            "image/png": "[encoded data removed]",
            "text/plain": [
              "<Figure size 432x288 with 1 Axes>"
            ]
          },
          "metadata": {
            "tags": [],
            "needs_background": "light"
          }
        }
      ]
    },
    {
      "cell_type": "markdown",
      "metadata": {
        "id": "XDa1n_5Ack_c"
      },
      "source": [
        "마찬가지로 100cm 농어도 1033g이라고 예측한다.\n",
        "\n",
        "100cm 농어의 이웃도 50cm 농어와 마찬가지로 참고하는 이웃이 같기때문이다.\n",
        "\n",
        "---\n",
        "\n",
        "이렇게 k-최근접 이웃 알고리즘은 훈련 세트에 있는 샘플 범위 밖의 값을 예측하는게 굉장히 어렵다.\n",
        "\n",
        "그렇기 때문에 k-최근접 이웃 알고리즘은 훈련 세트 범위 안에서 이웃한 샘플을 예측해야한다."
      ]
    },
    {
      "cell_type": "markdown",
      "metadata": {
        "id": "LTC_umMUdpzT"
      },
      "source": [
        "# **선형 회귀(Linear Regression)**"
      ]
    },
    {
      "cell_type": "markdown",
      "metadata": {
        "id": "GsiosO2Cdzrf"
      },
      "source": [
        "위의 문제처럼 길이가 늘어날 수록 무게가 올라가는 추세를 따라가는 알고리즘이 바로 선형회귀이다.\n",
        "\n",
        "선형회귀는 특성과 타깃 사이의 관계를 가장 잘 나타내는 선형 방정식을 찾는다.\n",
        "\n",
        "1차원 데이터, 즉, 특성이 하나일 경우 직선의 방정식으로 나타낸다."
      ]
    },
    {
      "cell_type": "code",
      "metadata": {
        "id": "DJjCwLLpgHFf"
      },
      "source": [
        "from sklearn.linear_model import LinearRegression"
      ],
      "execution_count": 9,
      "outputs": []
    },
    {
      "cell_type": "code",
      "metadata": {
        "colab": {
          "base_uri": "https://localhost:8080/"
        },
        "id": "SvmHsY3jgJKd",
        "outputId": "2471d76c-bac1-46cd-8391-5ee4f545759b"
      },
      "source": [
        "lr = LinearRegression()\n",
        "\n",
        "# 선형 회귀 모델 훈련\n",
        "lr.fit(train_input, train_target)"
      ],
      "execution_count": 10,
      "outputs": [
        {
          "output_type": "execute_result",
          "data": {
            "text/plain": [
              "LinearRegression(copy_X=True, fit_intercept=True, n_jobs=None, normalize=False)"
            ]
          },
          "metadata": {
            "tags": []
          },
          "execution_count": 10
        }
      ]
    },
    {
      "cell_type": "markdown",
      "metadata": {
        "id": "1QFqogQ-gqaH"
      },
      "source": [
        "사이킷런은 sklearn.linear_model패키지 아래에 LinearRegression 클래스로 선형 회귀 알고리즘을 구현해 놓았다.\n",
        "\n",
        "---\n",
        "\n",
        "사용법은 k-최근접 이웃 알고리즘과 동일하게 클래스를 우선 임포트한다.\n",
        "\n",
        "그리고 이 클래스(선형회귀)의 객체를 만들어서 준비한 데이터로 fit()메소드를 사용해서 훈련한다.\n",
        "\n",
        "---\n",
        "\n",
        "사이킷런의 모델 클래스들은 훈련, 평가, 예측하는 메소드 이름이 모두 동일하다."
      ]
    },
    {
      "cell_type": "code",
      "metadata": {
        "colab": {
          "base_uri": "https://localhost:8080/"
        },
        "id": "y-qplx1VgLOP",
        "outputId": "1dc217ee-efbe-4368-9148-732f25ff3768"
      },
      "source": [
        "# 50cm 농어에 대한 예측\n",
        "print(lr.predict([[50]]))"
      ],
      "execution_count": 12,
      "outputs": [
        {
          "output_type": "stream",
          "text": [
            "[1241.83860323]\n"
          ],
          "name": "stdout"
        }
      ]
    },
    {
      "cell_type": "markdown",
      "metadata": {
        "id": "fEU6kzy-hTRB"
      },
      "source": [
        "50cm 농어에 대한 예측값이 1241g으로 나왔다.\n",
        "\n",
        "어떻게 이런 값이 나왔는지 확인해보자."
      ]
    },
    {
      "cell_type": "markdown",
      "metadata": {
        "id": "dhNOh0sMh006"
      },
      "source": [
        "![그림1.png](data:image/png;base64,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)"
      ]
    },
    {
      "cell_type": "markdown",
      "metadata": {
        "id": "XIYer9zBh1RN"
      },
      "source": [
        "선형회귀는 직선을 학습한다.\n",
        "\n",
        "직선의 방정식은 y = ax + b으로 나타낼 수 있다.\n",
        "\n",
        "여기에서 x를 농어의 길이, y를 농어의 무게로 두면 직선의 방정식이 만들어진다.\n",
        "\n",
        "선형회귀는 기울기(a)와 절편(b), 이 두 값을 찾는 것이다."
      ]
    },
    {
      "cell_type": "code",
      "metadata": {
        "colab": {
          "base_uri": "https://localhost:8080/"
        },
        "id": "hphAL-McgNw2",
        "outputId": "8e87387e-8e2e-4cbc-92ef-ccb6601620aa"
      },
      "source": [
        "print(lr.coef_, lr.intercept_)"
      ],
      "execution_count": 13,
      "outputs": [
        {
          "output_type": "stream",
          "text": [
            "[39.01714496] -709.0186449535477\n"
          ],
          "name": "stdout"
        }
      ]
    },
    {
      "cell_type": "markdown",
      "metadata": {
        "id": "iacDv8vlmk7v"
      },
      "source": [
        "LinearRegression 클래스가 찾은 이 데이터에 가장 잘 맞는 기울기(a)와 절편(b)은 모델 객체의 coef_와 intercept_ 속성에 저장되어 있다.\n",
        "\n",
        "사이킷런 모델들은 어떤 데이터에서 학습한 값들을 모델 객체에 저장할 때 다른 속성과 구분될 수 있도록 속성 이름 끝에 언더바(_)를 추가했다.\n",
        "\n",
        "---\n",
        "\n",
        "기울기는 39, y의 절편은 -709가 나왔다.\n",
        "\n",
        "기울기는 넘파이배열로 y절편은 하나이기 때문에 스칼라값으로 나온다.\n",
        "\n",
        "기울기가 넘파이배열로 나오는 이유는 여러 개의 특성을 사용할 수도 있어서 각 특성마다 기울기가 저장되어있기 때문이다.\n",
        "\n",
        "우리는 특성을 하나만 사용했기때문에 길이 특성에 대한 기울기로 원소 한 개만 들어있다.\n",
        "\n",
        "---\n",
        "\n",
        "※ 여기서 잠깐 ※\n",
        "머신러닝에서 기울기를 종종 계수(coefficient) 또는 가중치(weight)라고 부른다.\n",
        "\n",
        "그리고 coef_와 intercept_를 머신러닝 알고리즘이 찾은 값이라는 의미로 모델 파라미터(model parameter)라고 부른다.\n",
        "\n",
        "이 책에서 사용하는 많은 머신러닝 알고리즘의 훈련 과정은 최적의 모델 파라미터를 찾는 것과 같다.\n",
        "\n",
        "이를 모델 기반 학습이라고 부른다.\n",
        "\n",
        "앞서 사용한 k-최근접 이웃에는 모델 파라미터가 없다.\n",
        "\n",
        "훈련 세트를 저장하는 것이 훈련의 전부였기 때문이다.\n",
        "\n",
        "이를 사례 기반 학습이라고 부른다."
      ]
    },
    {
      "cell_type": "code",
      "metadata": {
        "colab": {
          "base_uri": "https://localhost:8080/",
          "height": 279
        },
        "id": "iiV1LMVdnO3I",
        "outputId": "86cdb05b-7430-40ca-c0b3-c296ad366a92"
      },
      "source": [
        "# 훈련 세트의 산점도를 그립니다\u001f\n",
        "plt.scatter(train_input, train_target)\n",
        "\n",
        "# 15에서 50까지 1차 방정식 그래프를 그립니다\n",
        "plt.plot([15, 50], [15*lr.coef_+lr.intercept_, 50*lr.coef_+lr.intercept_])\n",
        "\n",
        "# 50cm 농어 데이터\n",
        "plt.scatter(50, 1241.8, marker='^')\n",
        "plt.xlabel('length')\n",
        "plt.ylabel('weight')\n",
        "plt.show()"
      ],
      "execution_count": 14,
      "outputs": [
        {
          "output_type": "display_data",
          "data": {
            "image/png": "[encoded data removed]",
            "text/plain": [
              "<Figure size 432x288 with 1 Axes>"
            ]
          },
          "metadata": {
            "tags": [],
            "needs_background": "light"
          }
        }
      ]
    },
    {
      "cell_type": "markdown",
      "metadata": {
        "id": "LaM_9lwJo_fY"
      },
      "source": [
        "농어의 길이 15에서 50까지 직선을 그려보았다.\n",
        "\n",
        "이 직선을 그리려면 앞에서 구한 기울기와 절편을 사용하여 (15, 15*lr.coef_+lr.intercept_)와 (50, 50*lr.coef_+lr.intercept) 두 점을 이으면 된다.\n",
        "\n",
        "---\n",
        "\n",
        "이제 훈련 세트 범위를 벗어난 농어의 무게도 예측할 수 있다."
      ]
    },
    {
      "cell_type": "code",
      "metadata": {
        "colab": {
          "base_uri": "https://localhost:8080/"
        },
        "id": "NxD0nGT2qGJE",
        "outputId": "9c54b3b3-25ca-4662-8b0d-56667eacb4b9"
      },
      "source": [
        "print(lr.score(train_input, train_target))\n",
        "print(lr.score(test_input, test_target))"
      ],
      "execution_count": 15,
      "outputs": [
        {
          "output_type": "stream",
          "text": [
            "0.9398463339976039\n",
            "0.8247503123313558\n"
          ],
          "name": "stdout"
        }
      ]
    },
    {
      "cell_type": "markdown",
      "metadata": {
        "id": "-8SpP7UQqNxh"
      },
      "source": [
        "훈련 세트와 테스트 세트에 대한 R^2 점수를 확인했다.\n",
        "\n",
        "테스트 세트가 훈련 세트보다 점수가 낮은 것으로 보아 과대적합이 되었다고 볼 수 있지만 이전에 k-최근접이웃보다 점수가 낮기때문에 오히려 전체적으로 과소적합되었다고 볼 수 있다.\n",
        "\n",
        "이렇게 어떤 모델이 과대적합이나 과소적합되었는지는 여러 가지 모델이나 실험을 통해서 상대적으로 평가하는 것이 좋다.\n",
        "\n",
        "---\n",
        "\n",
        "그래프의 왼쪽 아래를 보면 무게가 음수로 떨어진 것으로 보여진다.\n",
        "\n",
        "선형회귀의 단점 중에 하나가 농어의 새끼(?), 아주 작은 농어를 넣고 예측을 하면 무게가 0보다 작아지는 직선이 그려질 수 있다.\n",
        "\n",
        "왜냐하면 y절편이 큰 음수로 나왔기 때문이다.\n",
        "\n",
        "---\n",
        "\n",
        "사실 산점도를 자세히 보면 일직선이라기보다 왼쪽 위로 조금 구부러진 곡선에 가깝다.\n",
        "\n",
        "직선보다는 2차 방정식으로 만들면 R^2점수가 높아질 것으로 보이고, 음수로 떨어지는 문제도 방지할 수 있을 것이라고 예측된다.\n",
        "\n",
        "최적의 직선을 찾기보다 최적의 곡선을 찾으면 된다."
      ]
    },
    {
      "cell_type": "markdown",
      "metadata": {
        "id": "vUO-mHQAt7vG"
      },
      "source": [
        "# **다항 회귀**"
      ]
    },
    {
      "cell_type": "markdown",
      "metadata": {
        "id": "pPd8RvztyAkP"
      },
      "source": [
        "![그림1.png](data:image/png;base64,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)"
      ]
    },
    {
      "cell_type": "markdown",
      "metadata": {
        "id": "NNwaSGgQyCCv"
      },
      "source": [
        "위의 다항식, 즉, 2차 방정식의 a와 b, 그리고 c의 계수를 구한다면 최적의 곡선을 찾을 수 있을 것이다.\n",
        "\n",
        "이렇게 다항식을 사용하여 특성과 타깃 사이의 관계를 나타내는 선형 회귀를 다항 회귀(polynomial regression)이라고 부른다."
      ]
    },
    {
      "cell_type": "code",
      "metadata": {
        "id": "7yRxHVaM0Fyb"
      },
      "source": [
        "train_poly = np.column_stack((train_input ** 2, train_input))\n",
        "test_poly = np.column_stack((test_input ** 2, test_input))"
      ],
      "execution_count": 16,
      "outputs": []
    },
    {
      "cell_type": "markdown",
      "metadata": {
        "id": "C9Ho_P2P0HTr"
      },
      "source": [
        "사이킷런은 길이를 제곱한 항을 훈련 세트에 추가해서 선형 회귀 모델에 전달하면 다항 회귀를 자동으로 구현한다.\n",
        "\n",
        "---\n",
        "\n",
        "이전에 사용했던 column_stack()함수를 사용하면 train_input을 제곱한 것과 train_input 두 배열을 나란히 붙일 수 있다.\n",
        "\n",
        "이렇게 편리하게 제곱된 배열을 얻을 수 있다."
      ]
    },
    {
      "cell_type": "code",
      "metadata": {
        "colab": {
          "base_uri": "https://localhost:8080/"
        },
        "id": "Dn_EgZTT1rm9",
        "outputId": "a0796ca7-b490-42f8-8c20-51b25b2220d1"
      },
      "source": [
        "lr = LinearRegression()\n",
        "lr.fit(train_poly, train_target)\n",
        "\n",
        "print(lr.predict([[50**2, 50]]))"
      ],
      "execution_count": 17,
      "outputs": [
        {
          "output_type": "stream",
          "text": [
            "[1573.98423528]\n"
          ],
          "name": "stdout"
        }
      ]
    },
    {
      "cell_type": "markdown",
      "metadata": {
        "id": "ElP5rrK31we3"
      },
      "source": [
        "이제 데이터를 준비했으니 똑같이 선형 회귀 모델 객체를 만들어서 fit()메소드에 전달하여 학습하면 된다.\n",
        "\n",
        "훈련 세트에 제곱 항을 추가했지만, 타깃값은 그대로 사용한다. \n",
        "\n",
        "목표하는 값은 어떤 그래프를 훈련하든지 바꿀 필요가 없다.\n",
        "\n",
        "---\n",
        "\n",
        "50cm 농어에 대해 예측을 할 때 앞서 훈련 세트에 제곱 항을 만들어서 추가해주었기때문에 마찬가지로 50cm 농어도 제곱 항을 넣어줘야한다.\n",
        "\n",
        "---\n",
        "\n",
        "앞에서 훈련한 모델보다 50cm 농어에 대한 예측값이 높다."
      ]
    },
    {
      "cell_type": "code",
      "metadata": {
        "colab": {
          "base_uri": "https://localhost:8080/"
        },
        "id": "Z6F3QUtA2xD-",
        "outputId": "e45d6bf8-c07c-4beb-890c-8e9c34896939"
      },
      "source": [
        "print(lr.coef_, lr.intercept_)"
      ],
      "execution_count": 18,
      "outputs": [
        {
          "output_type": "stream",
          "text": [
            "[  1.01433211 -21.55792498] 116.05021078278276\n"
          ],
          "name": "stdout"
        }
      ]
    },
    {
      "cell_type": "markdown",
      "metadata": {
        "id": "rdanw3u42yLN"
      },
      "source": [
        "제곱항을 넣었기때문에 계수가 2개가 나오는 것을 확인할 수 있다.\n",
        "\n",
        "이 선형 모델은 '무게 = 1.01 * 길이^2 - 21.6 * 길이 + 116.05' 이러한 2차함수 그래프를 훈련했다.\n",
        "\n",
        "---\n",
        "\n",
        "※ 여기서 잠깐 ※\n",
        "위의 식은 2차 방정식인데 비선형이 아닌가?\n",
        "\n",
        "어떻게 이를 선형회귀라고 부를까?\n",
        "\n",
        "사실 길이^2을 간단히 다른 변수로 치환할 수 있다.\n",
        "\n",
        "가령 길이^2 = 왕길이로 바꾸면 무게 = 1.01*왕길이 - 2.16*길이 + 116.05와 같이 쓸 수 있다.\n",
        "\n",
        "즉 무게는 왕길이와 길이의 선형 관계로 표현할 수 있다.\n",
        "\n",
        "이렇게 다항회귀는 비선형일 수 있지만 선형회귀로 표현할 수 있다."
      ]
    },
    {
      "cell_type": "code",
      "metadata": {
        "colab": {
          "base_uri": "https://localhost:8080/",
          "height": 279
        },
        "id": "SPG9r9DD3h3S",
        "outputId": "491fce3a-c55d-454e-ed72-de2415cc0514"
      },
      "source": [
        "# 구간별 직선을 그리기 위해 15에서 49까지 정수 배열을 만듭니다\n",
        "point = np.arange(15, 50)\n",
        "\n",
        "# 훈련 세트의 산점도를 그립니다\n",
        "plt.scatter(train_input, train_target)\n",
        "\n",
        "# 15에서 49까지 2차 방정식 그래프를 그립니다\n",
        "plt.plot(point, 1.01*point**2 - 21.6*point + 116.05)\n",
        "\n",
        "# 50cm 농어 데이터\n",
        "plt.scatter([50], [1574], marker='^')\n",
        "plt.xlabel('length')\n",
        "plt.ylabel('weight')\n",
        "plt.show()"
      ],
      "execution_count": 19,
      "outputs": [
        {
          "output_type": "display_data",
          "data": {
            "image/png": "[encoded data removed]",
            "text/plain": [
              "<Figure size 432x288 with 1 Axes>"
            ]
          },
          "metadata": {
            "tags": [],
            "needs_background": "light"
          }
        }
      ]
    },
    {
      "cell_type": "markdown",
      "metadata": {
        "id": "Z2zvZMBr3kpz"
      },
      "source": [
        "짧은 직선을 이어서 그리면 마치 곡선처럼 표현할 수 있다.\n",
        "\n",
        "---\n",
        "\n",
        "1씩 증가하는 15에서 49까지의 포인트 배열을 만든다.\n",
        "\n",
        "그리고 x축에 포인트배열을 전달하고, y축에 위의 다항식에 포인트배열을 전달하면 된다.\n",
        "\n",
        "---\n",
        "\n",
        "단순 선형 회귀 모델보다 훨씬 나은 그래프가 그려졌고, 훈련 세트의 경향을 잘 따르고 있다.\n",
        "\n",
        "그리고 무게가 음수로 나오는 문제도 해결되었다."
      ]
    },
    {
      "cell_type": "code",
      "metadata": {
        "colab": {
          "base_uri": "https://localhost:8080/"
        },
        "id": "eRRxgMGO43gw",
        "outputId": "ec115b70-ccfb-4e6f-d309-517a575227a2"
      },
      "source": [
        "print(lr.score(train_poly, train_target))\n",
        "print(lr.score(test_poly, test_target))"
      ],
      "execution_count": 20,
      "outputs": [
        {
          "output_type": "stream",
          "text": [
            "0.9706807451768623\n",
            "0.9775935108325122\n"
          ],
          "name": "stdout"
        }
      ]
    },
    {
      "cell_type": "markdown",
      "metadata": {
        "id": "iJoeh9uJ470T"
      },
      "source": [
        "단순 선형 회귀 모델보다 성능이 훨씬 좋아졌다.\n",
        "\n",
        "하지만 테스트 세트의 점수가 더 높은 것으로 보아 과소적합 경향이 아직 남아있다.\n",
        "\n",
        "조금 더 복잡한 모델을 만들어 훈련 세트에 좀 더 과대적합하여 모델을 학습시킬 필요가 있다."
      ]
    }
  ]
}